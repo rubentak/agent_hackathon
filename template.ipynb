{
 "cells": [
  {
   "cell_type": "markdown",
   "source": [
    "# A Presentation generated from a Jupyter Notebook"
   ],
   "metadata": {
    "collapsed": false
   }
  },
  {
   "cell_type": "markdown",
   "source": [
    "## Section 1: Introduction\n",
    "First we import the needed libraries: `pptx` and `nbformat`."
   ],
   "metadata": {
    "collapsed": false
   }
  },
  {
   "cell_type": "code",
   "execution_count": 1,
   "metadata": {
    "collapsed": true,
    "ExecuteTime": {
     "end_time": "2023-06-04T21:20:15.366103Z",
     "start_time": "2023-06-04T21:20:15.362310Z"
    }
   },
   "outputs": [],
   "source": [
    "import nbformat\n",
    "from pptx import Presentation\n",
    "from pptx.util import Inches"
   ]
  },
  {
   "cell_type": "markdown",
   "source": [
    "## Section 2: Function to create a presentation\n",
    "We define a function that takes a Jupyter Notebook and a PowerPoint template as input and returns a PowerPoint presentation.\n"
   ],
   "metadata": {
    "collapsed": false
   }
  },
  {
   "cell_type": "code",
   "execution_count": 2,
   "outputs": [],
   "source": [
    "def read_ipynb_file(file_path):\n",
    "    with open(file_path, 'r', encoding='utf-8') as file:\n",
    "        notebook = nbformat.read(file, as_version=4)\n",
    "    return notebook\n",
    "\n",
    "def create_presentation(notebook, template_path):\n",
    "    prs = Presentation(template_path)\n",
    "    title_slide_layout = prs.slide_layouts[0]\n",
    "    content_slide_layout = prs.slide_layouts[4]\n",
    "\n",
    "    # Set the presentation title\n",
    "    for cell in notebook.cells:\n",
    "        if cell.cell_type == \"markdown\" and cell.source.startswith(\"# \"):\n",
    "            title_slide = prs.slides.add_slide(title_slide_layout)\n",
    "            title = title_slide.shapes.title\n",
    "            title.text = cell.source[2:].strip()\n",
    "            break\n",
    "\n",
    "    # Create slides for each second-level header\n",
    "    for cell in notebook.cells:\n",
    "        if cell.cell_type == \"markdown\" and cell.source.startswith(\"## \"):\n",
    "            slide = prs.slides.add_slide(content_slide_layout)\n",
    "            title = slide.shapes.title\n",
    "            title.text = cell.source[3:].strip()\n",
    "\n",
    "            # Add content to the slide\n",
    "            content = \"\"\n",
    "            for subcell in notebook.cells[notebook.cells.index(cell) + 1:]:\n",
    "                if subcell.cell_type == \"markdown\" and subcell.source.startswith(\"### \"):\n",
    "                    content += subcell.source[4:].strip() + \"\\n\\n\"\n",
    "                elif subcell.cell_type == \"markdown\" and subcell.source.startswith(\"## \"):\n",
    "                    break\n",
    "                elif subcell.cell_type == \"markdown\":\n",
    "                    lines = subcell.source.split('\\n')\n",
    "                    for line in lines:\n",
    "                        if not line.startswith(\"### \"):\n",
    "                            content += line.strip() + \"\\n\"\n",
    "\n",
    "            # Find the existing text shape on the slide and insert the content\n",
    "            for shape in slide.shapes:\n",
    "                if shape.has_text_frame and not shape.text.startswith(\"Click to edit\"):\n",
    "                    text_frame = shape.text_frame\n",
    "                    text_frame.text = content\n",
    "                    break\n",
    "\n",
    "    return prs"
   ],
   "metadata": {
    "collapsed": false,
    "ExecuteTime": {
     "end_time": "2023-06-04T21:20:15.370411Z",
     "start_time": "2023-06-04T21:20:15.367027Z"
    }
   }
  },
  {
   "cell_type": "markdown",
   "source": [
    "### Subsection 2.1: Define the paths\n",
    "We define the paths to the Jupyter Notebook and the PowerPoint template."
   ],
   "metadata": {
    "collapsed": false
   }
  },
  {
   "cell_type": "code",
   "execution_count": 3,
   "outputs": [],
   "source": [
    "notebook_path = \"/Users/nilsjennissen/PycharmProjects/presentations/notebooks/template.ipynb\"\n",
    "template_path = \"../templates/template.pptx\""
   ],
   "metadata": {
    "collapsed": false,
    "ExecuteTime": {
     "end_time": "2023-06-04T21:20:15.373936Z",
     "start_time": "2023-06-04T21:20:15.371944Z"
    }
   }
  },
  {
   "cell_type": "markdown",
   "source": [
    "### Subsection 2.2: Define the output path\n",
    "We define the path where the presentation will be saved."
   ],
   "metadata": {
    "collapsed": false
   }
  },
  {
   "cell_type": "code",
   "execution_count": 4,
   "outputs": [],
   "source": [
    "output_path = \"../pres/output.pptx\""
   ],
   "metadata": {
    "collapsed": false,
    "ExecuteTime": {
     "end_time": "2023-06-04T21:20:15.377401Z",
     "start_time": "2023-06-04T21:20:15.374111Z"
    }
   }
  },
  {
   "cell_type": "markdown",
   "source": [
    "## Section 3: Create the presentation\n",
    "We create the presentation by calling the function defined above."
   ],
   "metadata": {
    "collapsed": false
   }
  },
  {
   "cell_type": "code",
   "execution_count": 5,
   "outputs": [],
   "source": [
    "notebook = read_ipynb_file(notebook_path)\n",
    "presentation = create_presentation(notebook, template_path)\n",
    "presentation.save(output_path)"
   ],
   "metadata": {
    "collapsed": false,
    "ExecuteTime": {
     "end_time": "2023-06-04T21:20:15.381812Z",
     "start_time": "2023-06-04T21:20:15.380075Z"
    }
   }
  }
 ],
 "metadata": {
  "kernelspec": {
   "display_name": "Python 3",
   "language": "python",
   "name": "python3"
  },
  "language_info": {
   "codemirror_mode": {
    "name": "ipython",
    "version": 2
   },
   "file_extension": ".py",
   "mimetype": "text/x-python",
   "name": "python",
   "nbconvert_exporter": "python",
   "pygments_lexer": "ipython2",
   "version": "2.7.6"
  }
 },
 "nbformat": 4,
 "nbformat_minor": 0
}
